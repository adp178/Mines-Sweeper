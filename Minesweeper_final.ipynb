{
 "cells": [
  {
   "cell_type": "code",
   "execution_count": 497,
   "metadata": {},
   "outputs": [],
   "source": [
    "import random\n",
    "import numpy as np\n",
    "import matplotlib.pyplot as plt\n",
    "from tqdm import tqdm\n",
    "import time"
   ]
  },
  {
   "cell_type": "code",
   "execution_count": 498,
   "metadata": {},
   "outputs": [],
   "source": [
    "#Generating board of the game size and number of mines\n",
    "def generate_board(size, mines):\n",
    "    game_board = [[0 for i in range(0, size[1])] for j in range(0,size[0])]\n",
    "    mine_laying = set()\n",
    "    while len(mine_laying) < mines:\n",
    "        mine_laying.add((random.randint(1, size[0] - 1), random.randint(1, size[1] - 1)))\n",
    "    for mine in mine_laying:\n",
    "        game_board[mine[0]][mine[1]] = -1\n",
    "    for i in range(size[0]):\n",
    "        for j in range(size[1]):\n",
    "            if game_board[i][j] == -1:\n",
    "                continue\n",
    "            mine_track = 0\n",
    "            for x in [-1, 0, 1]:\n",
    "                for y in [-1, 0, 1]:\n",
    "                    if x != 0 or y != 0:\n",
    "                        tem = (i + x, j + y)\n",
    "                        if tem[0] >= 0 and tem[0] < size[0] and tem[1] >= 0 and tem[1] < size[1]:\n",
    "                            if game_board[tem[0]][tem[1]] == -1:\n",
    "                                mine_track += 1 # counting number of mines in the neighbours  and adding count to current tile\n",
    "            game_board[i][j] = mine_track       #this helps us the complete set up of initial game environment\n",
    "    return game_board"
   ]
  },
  {
   "cell_type": "code",
   "execution_count": 499,
   "metadata": {},
   "outputs": [],
   "source": [
    "#getting possible mines in surroundings\n",
    "def get_neighbors(coord,size, open_tiles):\n",
    "    return_ = []\n",
    "    mine_count = game_board[coord[0]][coord[1]]\n",
    "    for i in [-1, 0, 1]:\n",
    "        for j in [-1, 0, 1]:\n",
    "            tem = (coord[0] + i, coord[1] + j)\n",
    "            if (i != 0 or j != 0) and tem[0] >= 0 and tem[0] < size[0] and  tem[1] >= 0 and tem[1] < size[1]:\n",
    "                if tem in open_tiles:\n",
    "                    if open_tiles[tem][0] == -1:\n",
    "                        mine_count -= 1\n",
    "                    continue\n",
    "\n",
    "                return_.append(tem)\n",
    "    return (mine_count, [(mine_count, set(return_))])"
   ]
  },
  {
   "cell_type": "code",
   "execution_count": 500,
   "metadata": {},
   "outputs": [],
   "source": [
    "#removing neighbors potential mine right now and second are the cells to be consider clear so that we can remove\n",
    "def remove_operation(open_tiles, to_separate, mine_case):\n",
    "    mine_cell_track = []\n",
    "    for i in [-1, 0, 1]:\n",
    "        for j in [-1, 0, 1]:\n",
    "            tem = (to_separate[0] + i, to_separate[1] + j)\n",
    "            if tem in open_tiles and (i != 0 or j != 0):\n",
    "                mine_cell_track.append(tem)\n",
    "\n",
    "    for neighbor in mine_cell_track:\n",
    "        total_mines, possible_mines = open_tiles[neighbor]\n",
    "\n",
    "        suspect_mines = []\n",
    "        for number, mine in possible_mines:\n",
    "\n",
    "            if to_separate in mine:\n",
    "                total_mines -= mine_case\n",
    "                suspect_mines.append((number - mine_case, mine - set([to_separate])))\n",
    "            else:\n",
    "                suspect_mines.append((number, mine))\n",
    "        open_tiles[neighbor] = (total_mines, suspect_mines)\n",
    "    return open_tiles"
   ]
  },
  {
   "cell_type": "code",
   "execution_count": 501,
   "metadata": {},
   "outputs": [],
   "source": [
    "# Adding cells which are explored and cleared\n",
    "def add_to_list(open_tiles, unknowns, size, board, unexplored):\n",
    "    for something in unknowns:\n",
    "        for cell in something[1]:\n",
    "            if cell not in open_tiles:\n",
    "                open_tiles[cell] = get_neighbors(cell, size, open_tiles)\n",
    "                del unexplored[cell]\n",
    "                open_tiles = remove_operation(open_tiles, cell, 0)\n",
    "                board[cell[0]][cell[1]] = game_board[cell[0]][cell[1]]\n",
    "    return open_tiles\n",
    "\n",
    "\n",
    "def count_unknown_neighbors(unknowns):\n",
    "\n",
    "    to_return1 = 0\n",
    "    for mine_laying in unknowns[1]:\n",
    "        to_return1 += len(mine_laying)\n",
    "    return to_return1"
   ]
  },
  {
   "cell_type": "code",
   "execution_count": 502,
   "metadata": {},
   "outputs": [],
   "source": [
    "#calculting probabilities so that we can actually make a reasonable guess and also get a better approach\n",
    "def get_probabilities(open_tiles, cells):\n",
    "    min_probability = float('inf')\n",
    "    min_set = set()\n",
    "    for prob_cell in cells:\n",
    "        for num, mine_laying in open_tiles[prob_cell][1]:\n",
    "            if len(mine_laying) == 0:\n",
    "                continue\n",
    "            if num == 0:\n",
    "                return (0, mine_laying)\n",
    "            current_probability = float(num)/len(mine_laying)\n",
    "            if current_probability < min_probability:\n",
    "                min_probability = current_probability\n",
    "                min_set = mine_laying\n",
    "    return (min_probability, min_set)\n"
   ]
  },
  {
   "cell_type": "code",
   "execution_count": 503,
   "metadata": {},
   "outputs": [],
   "source": [
    "# driver function for getting infomration from the interaction of multiple cells and getting configurations\n",
    "def extract_info_surrounding(known_cell, cell):\n",
    "    intersecting_cells = []\n",
    "    for i in [-2, -1, 0, 1, 2]:\n",
    "        for j in [-2, -1, 0, 1, 2]:\n",
    "            if i == 0 and j == 0:\n",
    "                continue\n",
    "            tem = (cell[0] + i, cell[1] + j)\n",
    "            if tem in known_cell and known_cell[tem][0] not in [-2, 0, -1]:\n",
    "                intersecting_cells.append(tem)\n",
    "    flag_upgrade = False\n",
    "    for inter_cell in intersecting_cells:\n",
    "        cell_crossing = known_cell[cell]\n",
    "        tem_track = {}\n",
    "        for number, mine_laying in cell_crossing[1]:\n",
    "            sharing_tiles = known_cell[inter_cell]\n",
    "            flag = False\n",
    "            for inum, xmines in sharing_tiles[1]:\n",
    "                left = (mine_laying, cell, number) if number < inum else (xmines, inter_cell, inum)\n",
    "                right =  (mine_laying, cell, number) if number >= inum else (xmines, inter_cell, inum)\n",
    "                inter = left[0] & right[0] \n",
    "                uni_left = set() \n",
    "                uni_right = set()\n",
    "                if inter != set():\n",
    "                    uni_left = left[0] - right[0] \n",
    "                    uni_right = right[0] - left[0]\n",
    "                else:\n",
    "                    tem_track.setdefault(inter_cell, []).append((inum, xmines))\n",
    "                    continue\n",
    "                if uni_left == set():\n",
    "                    flag_upgrade = True if uni_right != set() else False\n",
    "                    flag = True\n",
    "                    new_right = [(left[2], left[0]), (right[2] - left[2], uni_right)]\n",
    "              \n",
    "                    if uni_right == set():\n",
    "                        new_right.pop()\n",
    "                    tem_track.setdefault(right[1], []) \n",
    "                    tem_track[right[1]] = tem_track[right[1]] + new_right\n",
    "                    tem_track.setdefault(left[1], []).append((left[2], left[0]))\n",
    "                    break\n",
    "                else:\n",
    "                    count_valid = 0\n",
    "                    valid_arrange = ()\n",
    "                    for i in range(0, min(len(uni_left), left[2]) + 1):\n",
    "                        inter_count = left[2] - i\n",
    "                        if inter_count > len(inter):\n",
    "                            continue\n",
    "                        if right[2] - inter_count > len(uni_right):\n",
    "                            continue\n",
    "                        count_valid += 1\n",
    "                        if count_valid > 1:\n",
    "                            break\n",
    "                        valid_arrange = (i, inter_count, right[2] - inter_count)   \n",
    "                    if count_valid == 1:\n",
    "                        flag_upgrade = True\n",
    "\n",
    "                        tem_track.setdefault(left[1], []) \n",
    "                        tem_track[left[1]] = tem_track[left[1]] + [(valid_arrange[0], uni_left),\n",
    "                                (valid_arrange[1], inter)]\n",
    "                        tem_track.setdefault(right[1], []) \n",
    "                        tem_track[right[1]] = tem_track[right[1]] + [(valid_arrange[1], inter),\n",
    "                                (valid_arrange[2], uni_right)]\n",
    "                        flag = True\n",
    "                        break\n",
    "                    else:\n",
    "                        tem_track.setdefault(inter_cell, []).append((inum, xmines))\n",
    "            if not flag:\n",
    "                tem_track.setdefault(cell, []).append((number, mine_laying))\n",
    "                \n",
    "            known_cell[inter_cell] = (known_cell[inter_cell][0], tem_track[inter_cell])\n",
    "            tem_track[inter_cell] = []\n",
    "        known_cell[cell] = (known_cell[cell][0], tem_track[cell])\n",
    "        tem_track[cell] = []\n",
    "    return known_cell, get_probabilities(known_cell, [cell] + intersecting_cells), flag_upgrade"
   ]
  },
  {
   "cell_type": "code",
   "execution_count": 504,
   "metadata": {},
   "outputs": [],
   "source": [
    "#driver funcation to play the board\n",
    "def play(size):\n",
    "    hit_mine=0\n",
    "    board = [[-2 for i in range(size[1])] for j in range(size[0])]\n",
    "    unseen = {}\n",
    "    for row in range(size[0]):\n",
    "        for col in range(size[1]):\n",
    "            unseen[(row, col)] = 0\n",
    "    done = False\n",
    "\n",
    "    open_tiles = {} #the cells which have been opened and have unknown neighbors \n",
    "    if game_board[0][0] == -1: #if the fisrt tile is mine\n",
    "        hit_min+=1\n",
    "    del unseen[(0, 0)]\n",
    "    open_tiles[(0,0)] = get_neighbors((0, 0), size, open_tiles)\n",
    "    while not done:\n",
    "        update_flag = False\n",
    "        minimum_prob = (float('inf'), set())\n",
    "        for cell in list(open_tiles.keys()):\n",
    "            unknowns = open_tiles[cell]\n",
    "            if unknowns[0] in [-2, -1]:\n",
    "                continue\n",
    "            clear_coord = []\n",
    "            for i in range(len(unknowns[1])):\n",
    "                if unknowns[1][i][0] == 0:\n",
    "                    open_tiles = add_to_list(open_tiles, [unknowns[1][i]], size, board, unseen)\n",
    "                    clear_coord.append(i)\n",
    "                    update_flag = True\n",
    "                    \n",
    "                elif unknowns[1][i][0] == len(unknowns[1][i][1]):\n",
    "                    clear_coord.append(i)\n",
    "                    update_flag = True\n",
    "                    for mine_cell in unknowns[1][i][1]:\n",
    "                        remove_operation(open_tiles, mine_cell, 1)\n",
    "                        open_tiles[mine_cell] = (-1, [])\n",
    "                        del unseen[mine_cell]\n",
    "                        board[mine_cell[0]][mine_cell[1]] = -1\n",
    "\n",
    "            if clear_coord == []:\n",
    "\n",
    "                open_tiles, cur_minimum_prob, cur_flag = extract_info_surrounding(open_tiles, cell)\n",
    "                if cur_flag == True:\n",
    "                    update_flag = True\n",
    "                if cur_minimum_prob[0] < minimum_prob[0]:\n",
    "                    minimum_prob = cur_minimum_prob\n",
    "\n",
    "                division_flag = True\n",
    "            \n",
    "            count = 0\n",
    "            for ind in clear_coord:\n",
    "\n",
    "                del unknowns[1][ind - count]\n",
    "                count += 1\n",
    "            if unknowns[1] == []:\n",
    "                open_tiles[cell] = (-2, [])\n",
    "\n",
    "        if update_flag == False:\n",
    "            \n",
    "            random_cell = (0, 0)\n",
    "            #print(\"Guesssing\")\n",
    "            if minimum_prob[0] == float('inf') and len(unseen) > 0:\n",
    "                random_cell = list(unseen.keys())[random.randint(0, len(unseen) - 1)] #taking a random guess at this point\n",
    "\n",
    "            elif minimum_prob[0] == float('inf'):\n",
    "                done = 1\n",
    "                continue\n",
    "            else:\n",
    "                random_cell = random.sample(minimum_prob[1], 1)[0]            \n",
    "            if game_board[random_cell[0]][random_cell[1]] == -1:\n",
    "                hit_mine+=1\n",
    "                continue\n",
    "            else:\n",
    "                open_tiles = add_to_list(open_tiles, [(0, set([random_cell]))], size, board, unseen)\n",
    "        #for i in range(len(board)):  #uncomment to keep track of play by play changes on the board\n",
    "         #   print(board[i])\n",
    "        #input('Any key to continue') # uncomment to get play by play progress\n",
    "\n",
    "    return True,hit_mine"
   ]
  },
  {
   "cell_type": "code",
   "execution_count": 685,
   "metadata": {},
   "outputs": [],
   "source": [
    "time_trac=[]\n",
    "mines_hit_after_every_itrn=[]"
   ]
  },
  {
   "cell_type": "code",
   "execution_count": 697,
   "metadata": {},
   "outputs": [
    {
     "name": "stdout",
     "output_type": "stream",
     "text": [
      "(True, 4)\n",
      "(True, 3)\n",
      "(True, 2)\n",
      "(True, 0)\n",
      "(True, 13)\n",
      "(True, 20)\n",
      "(True, 4)\n",
      "(True, 3)\n",
      "(True, 6)\n",
      "(True, 0)\n"
     ]
    }
   ],
   "source": [
    "#playing game and collecting results\n",
    "#itrn=10\n",
    "#for i in range(itrn):\n",
    "start = time.time()\n",
    "size = (20,20)\n",
    "mine_density=0.2\n",
    "mines = int(mine_density*size[0]*size[0])\n",
    "game_board = generate_board(size, mines)\n",
    "result = play(size)\n",
    "print(result)"
   ]
  },
  {
   "cell_type": "code",
   "execution_count": 645,
   "metadata": {},
   "outputs": [],
   "source": [
    "mines_hit_after_every_itrn.append(result[1])\n",
    "elapsed_time_fl = (time.time() - start)\n",
    "time_trac.append(elapsed_time_fl)"
   ]
  },
  {
   "cell_type": "code",
   "execution_count": 646,
   "metadata": {},
   "outputs": [
    {
     "name": "stdout",
     "output_type": "stream",
     "text": [
      "[2.9672391414642334, 5.224443435668945, 6.653937101364136, 2.1775810718536377, 2.077787160873413, 2.859860420227051, 2.723099946975708, 2.274573564529419, 1.6224215030670166, 9.781442642211914, 4.82940936088562, 3.164858341217041, 2.24066162109375, 2.039823532104492, 1.9311532974243164, 1.8907830715179443, 1.692711591720581, 2.040891170501709, 2.5364372730255127, 2.4114186763763428] 6.314053392410278 0.45\n",
      "[142, 99, 130, 84, 100, 101, 120, 126, 89, 95] 108.6 0.6033333333333333\n"
     ]
    }
   ],
   "source": [
    "#running the cell 10 times with varying mine density and appending the results\n",
    "#mines_hit_after_every_itrn.remove(70)\n",
    "avg_mines_hit=sum(mines_hit_after_every_itrn)/10\n",
    "avg_final_score= avg_mines_hit/(mine_density*size[0]*size[0])\n",
    "avg_time=sum(time_trac)/10\n",
    "print(time_trac,avg_time,mine_density)\n",
    "print(mines_hit_after_every_itrn,avg_mines_hit,avg_final_score)"
   ]
  },
  {
   "cell_type": "code",
   "execution_count": 353,
   "metadata": {},
   "outputs": [],
   "source": [
    "#variables for ploting graph\n",
    "y=[] #storing avg final score\n",
    "z=[] #storing avg time"
   ]
  },
  {
   "cell_type": "code",
   "execution_count": null,
   "metadata": {},
   "outputs": [],
   "source": [
    "#appdending data for plotting\n",
    "y.append(avg_final_score)\n",
    "z.append(avg_time)"
   ]
  },
  {
   "cell_type": "code",
   "execution_count": 662,
   "metadata": {},
   "outputs": [
    {
     "name": "stdout",
     "output_type": "stream",
     "text": [
      "[0.05, 0.1, 0.15, 0.2, 0.25, 0.3, 0.35, 0.45] [0.005, 0.0075, 0.03333333333333333, 0.08125, 0.258, 0.3458333333333333, 0.44190476190476186, 0.5225, 0.6033333333333333] [0.010481977462768554, 0.013164901733398437, 0.050132465362548825, 0.0878286361694336, 0.18188192844390869, 0.17842283248901367, 0.06099259853363037, 3.8362385988235475, 6.314053392410278]\n"
     ]
    }
   ],
   "source": [
    "#print(x,y,z)\n",
    "x=[0.05,0.1,0.15,0.2,0.25,0.3,0.35,0.45,0.5]"
   ]
  },
  {
   "cell_type": "code",
   "execution_count": 680,
   "metadata": {},
   "outputs": [
    {
     "data": {
      "text/plain": [
       "(0.0, 0.7)"
      ]
     },
     "execution_count": 680,
     "metadata": {},
     "output_type": "execute_result"
    },
    {
     "data": {
      "image/png": "[encoded data removed]",
      "text/plain": [
       "<Figure size 432x288 with 1 Axes>"
      ]
     },
     "metadata": {
      "needs_background": "light"
     },
     "output_type": "display_data"
    }
   ],
   "source": [
    "#plotting results\n",
    "plt.plot(x, y, marker = 'o')\n",
    "plt.xlabel(\"Mine Density\")\n",
    "plt.ylabel(\"Average Final Score\")\n",
    "plt.xlim(0, 0.5)\n",
    "plt.ylim(0, 0.7)"
   ]
  },
  {
   "cell_type": "code",
   "execution_count": 299,
   "metadata": {},
   "outputs": [
    {
     "name": "stdout",
     "output_type": "stream",
     "text": [
      "(True, 92)\n"
     ]
    }
   ],
   "source": [
    "#Note : chagning size manually here\n",
    "start = time.time()\n",
    "size = (20,20)\n",
    "mine_density=0.1\n",
    "mines = mine_density*size[0]*size[0]\n",
    "game_board = generate_board(size, mines)\n",
    "count = play(size)\n",
    "print(count)\n",
    "elapsed_time_fl = (time.time() - start)\n",
    "time_track.append(elapsed_time_fl)"
   ]
  },
  {
   "cell_type": "code",
   "execution_count": 298,
   "metadata": {},
   "outputs": [
    {
     "name": "stdout",
     "output_type": "stream",
     "text": [
      "[0.06984591484069824, 0.07982110977172852]\n"
     ]
    }
   ],
   "source": [
    "#print(time_track)\n",
    "x=[5,10,15,20,25,30,35,40,45,50,60,100]"
   ]
  },
  {
   "cell_type": "code",
   "execution_count": 282,
   "metadata": {},
   "outputs": [
    {
     "data": {
      "text/plain": [
       "Text(0, 0.5, 'Time taken in mins')"
      ]
     },
     "execution_count": 282,
     "metadata": {},
     "output_type": "execute_result"
    },
    {
     "data": {
      "image/png": "[encoded data removed]",
      "text/plain": [
       "<Figure size 432x288 with 1 Axes>"
      ]
     },
     "metadata": {
      "needs_background": "light"
     },
     "output_type": "display_data"
    }
   ],
   "source": [
    "# plotting size at constant density vs size\n",
    "plt.plot(x, time_track,marker = 'o')\n",
    "plt.xlabel(\"Size (Dimension*Dimension) mine_density=0.1\")\n",
    "plt.ylabel(\"Time taken in mins\")"
   ]
  }
 ],
 "metadata": {
  "kernelspec": {
   "display_name": "Python 3",
   "language": "python",
   "name": "python3"
  }
 },
 "nbformat": 4,
 "nbformat_minor": 4
}
